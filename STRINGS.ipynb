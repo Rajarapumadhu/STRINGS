{
 "cells": [
  {
   "cell_type": "markdown",
   "id": "232737af",
   "metadata": {},
   "source": [
    "# strings- Assignment1\n",
    "1.Write a python program to convert a string to lower case "
   ]
  },
  {
   "cell_type": "code",
   "execution_count": 1,
   "id": "cad69ac9",
   "metadata": {},
   "outputs": [],
   "source": [
    "s = \"PYTHON\""
   ]
  },
  {
   "cell_type": "code",
   "execution_count": 2,
   "id": "1990d68c",
   "metadata": {},
   "outputs": [
    {
     "data": {
      "text/plain": [
       "'python'"
      ]
     },
     "execution_count": 2,
     "metadata": {},
     "output_type": "execute_result"
    }
   ],
   "source": [
    "s.lower()"
   ]
  },
  {
   "cell_type": "markdown",
   "id": "68cc8d99",
   "metadata": {},
   "source": [
    "2. write a python program to convert only odd indexed charaters to lower case\n",
    "Ex:PYTHON\n",
    "Output:-PyThOn"
   ]
  },
  {
   "cell_type": "code",
   "execution_count": 7,
   "id": "18a6c40f",
   "metadata": {},
   "outputs": [
    {
     "name": "stdout",
     "output_type": "stream",
     "text": [
      "PyThOn\n",
      "PyThOn\n"
     ]
    }
   ],
   "source": [
    "s=input(\"\")\n",
    "t=\"\"\n",
    "for i in range(len(s)):\n",
    "    if i%2==0:\n",
    "        t=t+s[i].upper()\n",
    "    else:\n",
    "        t=t+s[i].lower()\n",
    "print(s)       \n",
    "\n"
   ]
  },
  {
   "cell_type": "markdown",
   "id": "86b71966",
   "metadata": {},
   "source": [
    "# 3.write python program to convert only even indexed character to lower case"
   ]
  },
  {
   "cell_type": "code",
   "execution_count": 23,
   "id": "41e513c9",
   "metadata": {},
   "outputs": [
    {
     "name": "stdout",
     "output_type": "stream",
     "text": [
      "PyThOn\n",
      "PyThOn\n"
     ]
    }
   ],
   "source": [
    "s=input(\"\")\n",
    "t=\"\"\n",
    "for i in range(len(s)):\n",
    "    if i%2==0:\n",
    "        t=t+s[i].lower()\n",
    "    else:\n",
    "        t=t+s[i].upper()\n",
    "print(s)       \n"
   ]
  },
  {
   "cell_type": "markdown",
   "id": "344a2177",
   "metadata": {},
   "source": [
    "#4. write a python program to convert only odd indexed character to lower case"
   ]
  },
  {
   "cell_type": "code",
   "execution_count": 24,
   "id": "c0bc6c32",
   "metadata": {},
   "outputs": [
    {
     "name": "stdout",
     "output_type": "stream",
     "text": [
      "python\n",
      "python\n"
     ]
    }
   ],
   "source": [
    "s=input(\"\")\n",
    "t=\"\"\n",
    "for i in range(len(s)):\n",
    "    if i%2==0:\n",
    "        t=t+s[i].upper()\n",
    "    else:\n",
    "        t=t+s[i].lower()\n",
    "print(s)       \n"
   ]
  },
  {
   "cell_type": "markdown",
   "id": "de681e7b",
   "metadata": {},
   "source": []
  },
  {
   "cell_type": "markdown",
   "id": "04c78f54",
   "metadata": {},
   "source": [
    "# 5.write a python program to convert only even indexed character to upper case"
   ]
  },
  {
   "cell_type": "code",
   "execution_count": 25,
   "id": "af14cb8e",
   "metadata": {},
   "outputs": [
    {
     "name": "stdout",
     "output_type": "stream",
     "text": [
      "PyThOn\n",
      "PyThOn\n"
     ]
    }
   ],
   "source": [
    "s=input(\"\")\n",
    "t=\"\"\n",
    "for i in range(len(s)):\n",
    "    if i%2==0:\n",
    "        t=t+s[i].lower()\n",
    "    else:\n",
    "        t=t+s[i].upper()\n",
    "print(s)"
   ]
  },
  {
   "cell_type": "markdown",
   "id": "987680ca",
   "metadata": {},
   "source": [
    "# 6. write a python program where you have different variable which contains your name gender,age phone number,father name and mother name.And\n",
    "   by useing  this varible create a varible named bio-date where you will use all this varible\n",
    "    "
   ]
  },
  {
   "cell_type": "code",
   "execution_count": null,
   "id": "489df4ae",
   "metadata": {},
   "outputs": [],
   "source": [
    "name=input(\"my name is:\")\n",
    "age=int(input(\"my age is:\"))\n",
    "phone_no=int(input(\"my phone no is:\"))\n",
    "father_name=input(\"my father name is:\")\n",
    "mother_name=input(\"my mother name is:\")\n",
    "print(bio_date)"
   ]
  },
  {
   "cell_type": "code",
   "execution_count": null,
   "id": "7793db1a",
   "metadata": {},
   "outputs": [],
   "source": []
  },
  {
   "cell_type": "code",
   "execution_count": null,
   "id": "9be78c5b",
   "metadata": {},
   "outputs": [],
   "source": []
  },
  {
   "cell_type": "markdown",
   "id": "43495144",
   "metadata": {},
   "source": [
    "# 7.write a python program to count how many times \"@\" occurred"
   ]
  },
  {
   "cell_type": "code",
   "execution_count": 28,
   "id": "50a54788",
   "metadata": {},
   "outputs": [
    {
     "name": "stdout",
     "output_type": "stream",
     "text": [
      "s@ndhy@\n"
     ]
    },
    {
     "data": {
      "text/plain": [
       "<function print>"
      ]
     },
     "execution_count": 28,
     "metadata": {},
     "output_type": "execute_result"
    }
   ],
   "source": [
    "s=input(\"\")\n",
    "t=s.count(\"@\")\n",
    "print\n"
   ]
  },
  {
   "cell_type": "code",
   "execution_count": null,
   "id": "7632d6b8",
   "metadata": {},
   "outputs": [],
   "source": []
  },
  {
   "cell_type": "markdown",
   "id": "ee541671",
   "metadata": {},
   "source": [
    "# 8.write a python program to get name from the string"
   ]
  },
  {
   "cell_type": "code",
   "execution_count": 30,
   "id": "eaf3787e",
   "metadata": {},
   "outputs": [
    {
     "data": {
      "text/plain": [
       "'name1. ,name2. ,name3. '"
      ]
     },
     "execution_count": 30,
     "metadata": {},
     "output_type": "execute_result"
    }
   ],
   "source": [
    "a='name1.@gmail.com,name2.@gmail.com,name3.@gmail.com'\n",
    "b=a.split(\"@gmail.com\")\n",
    "c=\" \".join(b)\n",
    "c"
   ]
  },
  {
   "cell_type": "markdown",
   "id": "d04e0882",
   "metadata": {},
   "source": [
    "# 9. write a program to remove vowels from the entire alphabets"
   ]
  },
  {
   "cell_type": "code",
   "execution_count": 31,
   "id": "e601e59b",
   "metadata": {},
   "outputs": [
    {
     "data": {
      "text/plain": [
       "'bcdfghjklmnpqrstvwxyz'"
      ]
     },
     "execution_count": 31,
     "metadata": {},
     "output_type": "execute_result"
    }
   ],
   "source": [
    "a=\"abcdefghijklmnopqrstuvwxyz\"\n",
    "b=[\"a\",\"e\",\"i\",\"o\",\"u\"]\n",
    "s=[]\n",
    "for i in a:\n",
    "    if i not in b:\n",
    "        s.append(i)\n",
    "t=''.join(s)\n",
    "t"
   ]
  },
  {
   "cell_type": "markdown",
   "id": "4b42dc4b",
   "metadata": {},
   "source": [
    "# 10.Find all occurrences of a substring in a given string by ignoring the case"
   ]
  },
  {
   "cell_type": "code",
   "execution_count": null,
   "id": "a30b25cd",
   "metadata": {},
   "outputs": [],
   "source": []
  }
 ],
 "metadata": {
  "kernelspec": {
   "display_name": "Python 3 (ipykernel)",
   "language": "python",
   "name": "python3"
  },
  "language_info": {
   "codemirror_mode": {
    "name": "ipython",
    "version": 3
   },
   "file_extension": ".py",
   "mimetype": "text/x-python",
   "name": "python",
   "nbconvert_exporter": "python",
   "pygments_lexer": "ipython3",
   "version": "3.9.13"
  }
 },
 "nbformat": 4,
 "nbformat_minor": 5
}
